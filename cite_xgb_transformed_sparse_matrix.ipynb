{
  "cells": [
    {
      "cell_type": "markdown",
      "metadata": {
        "id": "view-in-github",
        "colab_type": "text"
      },
      "source": [
        "<a href=\"https://colab.research.google.com/github/chumingyzx/Kaggle---Multimodal-Single-Cell-Integration/blob/main/cite_xgb_transformed_sparse_matrix.ipynb\" target=\"_parent\"><img src=\"https://colab.research.google.com/assets/colab-badge.svg\" alt=\"Open In Colab\"/></a>"
      ]
    },
    {
      "cell_type": "code",
      "source": [
        "from google.colab import drive\n",
        "import os\n",
        "import glob\n",
        "\n",
        "drive.mount('/content/drive')\n",
        "folder_path = '/content/drive/My Drive/NeurIPS/Data/'\n",
        "all_files = os.listdir(folder_path)"
      ],
      "metadata": {
        "id": "sRd-6W7oofgF"
      },
      "execution_count": null,
      "outputs": []
    },
    {
      "cell_type": "code",
      "source": [
        "if not os.path.exists('/opt/conda/lib/python3.7/site-packages/tables'):\n",
        "  !pip install tables\n",
        "if not os.path.exists('/opt/conda/lib/python3.7/site-packages/xgboost'):\n",
        "  !pip install xgboost\n",
        "# if not os.path.exists('/opt/conda/lib/python3.7/site-packages/tensorflow'):\n",
        "  # !pip install --upgrade tensorflow"
      ],
      "metadata": {
        "id": "8q5fu3FKo7dx"
      },
      "execution_count": null,
      "outputs": []
    },
    {
      "cell_type": "code",
      "execution_count": null,
      "metadata": {
        "id": "-C4gTtjjnuq_"
      },
      "outputs": [],
      "source": [
        "%%time\n",
        "import pandas as pd\n",
        "import numpy as np\n",
        "import gc\n",
        "import os\n",
        "import random\n",
        "import pickle\n",
        "from sklearn.model_selection import StratifiedKFold,KFold\n",
        "from scipy.sparse import hstack,vstack,csr_matrix,save_npz,load_npz\n",
        "from sklearn.decomposition import TruncatedSVD\n",
        "from scipy.stats import spearmanr\n",
        "import xgboost as xgb\n",
        "from tensorflow.keras.models import Sequential\n",
        "from tensorflow.keras.layers import Dense, Dropout\n",
        "from tensorflow.keras.callbacks import EarlyStopping\n",
        "from tensorflow.keras.optimizers import Adam\n",
        "from tensorflow.keras.layers import Input\n",
        "\n",
        "############################################################################\n",
        "#----- work folder -----\n",
        "############################################################################\n",
        "input_path = '/content/drive/MyDrive/NeurIPS/Data/'\n",
        "feature_path = '/content/drive/MyDrive/NeurIPS/Data/'\n",
        "model_path = '/content/drive/MyDrive/NeurIPS/'\n",
        "sub_path = '/content/drive/MyDrive/NeurIPS/'"
      ]
    },
    {
      "cell_type": "markdown",
      "metadata": {
        "id": "jMcbLWKMnurD"
      },
      "source": [
        "# load csr_matrix"
      ]
    },
    {
      "cell_type": "code",
      "execution_count": null,
      "metadata": {
        "id": "DkgIXZucnurE"
      },
      "outputs": [],
      "source": [
        "%%time\n",
        "\n",
        "train_df = pd.read_feather(feature_path+'train_cite_inputs_id.feather')\n",
        "test_df = pd.read_feather(feature_path+'test_cite_inputs_id.feather')\n",
        "\n",
        "cite_inputs_sparse = load_npz(feature_path+\"cite_inputs_sparse.npz\")\n",
        "\n",
        "train_cite_X = cite_inputs_sparse[:len(train_df)]\n",
        "test_cite_X = cite_inputs_sparse[len(train_df):]\n",
        "train_cite_y = np.load(feature_path+'train_cite_targets.npy')"
      ]
    },
    {
      "cell_type": "code",
      "execution_count": null,
      "metadata": {
        "id": "r81d3wEJnurE"
      },
      "outputs": [],
      "source": [
        "train_cite_X.shape,test_cite_X.shape,train_cite_y.shape"
      ]
    },
    {
      "cell_type": "markdown",
      "metadata": {
        "id": "CLPEGQEGnurF"
      },
      "source": [
        "# model"
      ]
    },
    {
      "cell_type": "code",
      "execution_count": null,
      "metadata": {
        "id": "0x16ksw_nurF"
      },
      "outputs": [],
      "source": [
        "%%time\n",
        "\n",
        "\n",
        "def xgb_kfold(train_df, test_df, train_cite_X, train_cite_y, test_cite_X, folds):\n",
        "    params = {\n",
        "        'objective': 'reg:squarederror',\n",
        "        'learning_rate': 0.1,\n",
        "        'max_depth': 5,\n",
        "        'lambda': 1.0,\n",
        "        'alpha': 0.1,\n",
        "        'subsample': 0.7,\n",
        "        'colsample_bytree': 0.7,\n",
        "        'device': 'gpu',\n",
        "        'tree_method': 'gpu_hist',\n",
        "        'verbosity': 0,\n",
        "        'seed': 42\n",
        "    }\n",
        "\n",
        "    oof_preds = np.zeros(train_df.shape[0])\n",
        "    sub_preds = np.zeros(test_df.shape[0])\n",
        "\n",
        "    for n_fold, (train_idx, valid_idx) in enumerate(folds.split(train_df)):\n",
        "        print(f'n_fold: {n_fold}')\n",
        "\n",
        "        train_x = train_cite_X[train_idx]\n",
        "        valid_x = train_cite_X[valid_idx]\n",
        "        train_y = train_cite_y[train_idx]\n",
        "        valid_y = train_cite_y[valid_idx]\n",
        "\n",
        "        dtrain = xgb.DMatrix(train_x, label=train_y)\n",
        "        dvalid = xgb.DMatrix(valid_x, label=valid_y)\n",
        "        dtest  = xgb.DMatrix(test_cite_X)\n",
        "\n",
        "        bst = xgb.train(\n",
        "            params,\n",
        "            dtrain,\n",
        "            num_boost_round=10000,\n",
        "            evals=[(dvalid, 'valid')],\n",
        "            early_stopping_rounds=100,\n",
        "            verbose_eval=1000\n",
        "        )\n",
        "\n",
        "        oof_preds[valid_idx] = bst.predict(dvalid, iteration_range=(0, bst.best_iteration))\n",
        "        sub_preds += bst.predict(dtest, iteration_range=(0, bst.best_iteration)) / folds.n_splits\n",
        "\n",
        "    return oof_preds, sub_preds\n"
      ]
    },
    {
      "cell_type": "code",
      "execution_count": null,
      "metadata": {
        "id": "20V5ydAKnurF"
      },
      "outputs": [],
      "source": [
        "%%time\n",
        "seed = 42\n",
        "folds = KFold(n_splits= 5, shuffle=True, random_state=seed)\n",
        "train_preds = []\n",
        "test_preds = []\n",
        "for i in range(140):\n",
        "    print('=====================')\n",
        "    print(i)\n",
        "    train_cite_y_single = train_cite_y[:,i]\n",
        "    oof_preds,sub_preds = xgb_kfold(train_df, test_df, train_cite_X, train_cite_y_single, test_cite_X, folds)\n",
        "    train_preds.append(oof_preds)\n",
        "    test_preds.append(sub_preds)"
      ]
    },
    {
      "cell_type": "code",
      "execution_count": null,
      "metadata": {
        "id": "GQ_SbKp0nurG"
      },
      "outputs": [],
      "source": [
        "def correlation_score(y_true, y_pred):\n",
        "    \"\"\"Scores the predictions according to the competition rules.\n",
        "\n",
        "    It is assumed that the predictions are not constant.\n",
        "\n",
        "    Returns the average of each sample's Pearson correlation coefficient\"\"\"\n",
        "    if type(y_true) == pd.DataFrame: y_true = y_true.values\n",
        "    if type(y_pred) == pd.DataFrame: y_pred = y_pred.values\n",
        "    corrsum = 0\n",
        "    for i in range(len(y_true)):\n",
        "        corrsum += np.corrcoef(y_true[i], y_pred[i])[1, 0]\n",
        "    return corrsum / len(y_true)\n",
        "\n",
        "oof_preds = np.zeros((len(train_df), 140))\n",
        "for n in range(len(train_preds)):\n",
        "    oof_preds[:,n] =  train_preds[n]\n",
        "\n",
        "cv = correlation_score(train_cite_y, oof_preds)\n",
        "print (cv)\n",
        "\n",
        "sub_preds = np.zeros((len(test_df), 140))\n",
        "for n in range(len(test_preds)):\n",
        "    sub_preds[:,n] =  test_preds[n]\n",
        "\n",
        "xgb1 = np.concatenate([oof_preds,sub_preds],axis=0)\n",
        "\n",
        "tsvd = TruncatedSVD(n_components=100, algorithm='arpack')\n",
        "xgb1_svd = tsvd.fit_transform(xgb1)\n",
        "np.save(feature_path+'cite_xgb1_svd_100.npy', xgb1_svd)"
      ]
    },
    {
      "cell_type": "code",
      "execution_count": null,
      "metadata": {
        "id": "x2WMgRYsnurG"
      },
      "outputs": [],
      "source": []
    }
  ],
  "metadata": {
    "kernelspec": {
      "display_name": "Python 3",
      "name": "python3"
    },
    "language_info": {
      "codemirror_mode": {
        "name": "ipython",
        "version": 3
      },
      "file_extension": ".py",
      "mimetype": "text/x-python",
      "name": "python",
      "nbconvert_exporter": "python",
      "pygments_lexer": "ipython3",
      "version": "3.11.5"
    },
    "colab": {
      "provenance": [],
      "machine_shape": "hm",
      "gpuType": "A100",
      "include_colab_link": true
    },
    "accelerator": "GPU"
  },
  "nbformat": 4,
  "nbformat_minor": 0
}