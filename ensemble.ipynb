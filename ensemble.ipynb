{
  "cells": [
    {
      "cell_type": "markdown",
      "metadata": {
        "id": "view-in-github",
        "colab_type": "text"
      },
      "source": [
        "<a href=\"https://colab.research.google.com/github/chumingyzx/Kaggle---Multimodal-Single-Cell-Integration/blob/main/ensemble.ipynb\" target=\"_parent\"><img src=\"https://colab.research.google.com/assets/colab-badge.svg\" alt=\"Open In Colab\"/></a>"
      ]
    },
    {
      "cell_type": "code",
      "source": [
        "from google.colab import drive\n",
        "import os\n",
        "import glob\n",
        "\n",
        "drive.mount('/content/drive')\n",
        "folder_path = '/content/drive/My Drive/NeurIPS/Data/'"
      ],
      "metadata": {
        "id": "s88E7miqYQv_"
      },
      "id": "s88E7miqYQv_",
      "execution_count": null,
      "outputs": []
    },
    {
      "cell_type": "code",
      "source": [
        "!pip install tables"
      ],
      "metadata": {
        "id": "HFZu21Hs0eRZ"
      },
      "id": "HFZu21Hs0eRZ",
      "execution_count": null,
      "outputs": []
    },
    {
      "cell_type": "code",
      "execution_count": null,
      "id": "b273d873-a40f-4280-995b-f07616a7452e",
      "metadata": {
        "id": "b273d873-a40f-4280-995b-f07616a7452e"
      },
      "outputs": [],
      "source": [
        "%%time\n",
        "import pandas as pd\n",
        "import numpy as np\n",
        "import gc\n",
        "\n",
        "\n",
        "input_path = '/content/drive/MyDrive/NeurIPS/Data/'\n",
        "feature_path = '/content/drive/MyDrive/NeurIPS/Data/'\n",
        "model_path = '/content/drive/MyDrive/NeurIPS/model/'\n",
        "sub_path = '/content/drive/MyDrive/NeurIPS/'\n",
        "ensemble_path = '/content/drive/MyDrive/NeurIPS/'"
      ]
    },
    {
      "cell_type": "code",
      "execution_count": null,
      "id": "05feee8d-1a98-4330-a9a3-59ea9d88ccfe",
      "metadata": {
        "id": "05feee8d-1a98-4330-a9a3-59ea9d88ccfe"
      },
      "outputs": [],
      "source": [
        "\n",
        "def zscore(x):\n",
        "    x_zscore = []\n",
        "    for i in range(x.shape[0]):\n",
        "        x_row = x[i]\n",
        "        x_row = (x_row - np.mean(x_row)) / np.std(x_row)\n",
        "        x_zscore.append(x_row)\n",
        "    x_std = np.array(x_zscore)\n",
        "    return x_std\n",
        "\n",
        "test_cite_preds = np.load(ensemble_path+'cite_oof.npy')\n",
        "\n",
        "test_cite_preds = zscore(test_cite_preds)\n",
        "\n",
        "test_cite_ensemble = test_cite_preds\n",
        "\n",
        "test_multi_ensemble = np.load(ensemble_path+'multi_oof.npy')"
      ]
    },
    {
      "cell_type": "code",
      "execution_count": null,
      "id": "d7a1b4ca-b4cb-4712-a15d-251484eb47c9",
      "metadata": {
        "id": "d7a1b4ca-b4cb-4712-a15d-251484eb47c9"
      },
      "outputs": [],
      "source": [
        "metadata = pd.read_csv(input_path+'metadata.csv')[['cell_id','technology']]\n",
        "evaluation_ids = pd.read_csv(input_path+'evaluation_ids.csv')\n",
        "evaluation_ids = evaluation_ids.merge(metadata, on=['cell_id'], how='left')\n",
        "\n",
        "# cite\n",
        "train_cite_targets = pd.read_hdf(input_path+'train_cite_targets.h5')\n",
        "cite_targets = train_cite_targets.columns.values.tolist()\n",
        "\n",
        "del train_cite_targets\n",
        "gc.collect()\n",
        "\n",
        "test_preds_cite = pd.DataFrame(test_cite_ensemble, columns=cite_targets)\n",
        "\n",
        "test_cite_inputs_id = pd.read_feather(feature_path+'test_cite_inputs_id.feather')\n",
        "test_preds_cite['cell_id'] = test_cite_inputs_id['cell_id']\n",
        "test_preds_cite = test_preds_cite[test_preds_cite['cell_id'].isin(evaluation_ids['cell_id'])]\n",
        "test_preds_cite = pd.melt(test_preds_cite,id_vars='cell_id')\n",
        "test_preds_cite.columns = ['cell_id','gene_id','target']\n",
        "\n",
        "del test_cite_inputs_id\n",
        "gc.collect()\n",
        "\n",
        "# multi\n",
        "train_multi_targets = pd.read_hdf(input_path+'train_multi_targets.h5')\n",
        "multi_targets = train_multi_targets.columns.values.tolist()\n",
        "\n",
        "del train_multi_targets\n",
        "gc.collect()\n",
        "\n",
        "test_preds_multi = pd.DataFrame(test_multi_ensemble, columns=multi_targets)\n",
        "\n",
        "test_multi_inputs_id = pd.read_feather(feature_path+'test_multi_inputs_id.feather')\n",
        "test_preds_multi['cell_id'] = test_multi_inputs_id['cell_id']\n",
        "test_preds_multi = test_preds_multi[test_preds_multi['cell_id'].isin(evaluation_ids['cell_id'])]\n",
        "test_preds_multi = pd.melt(test_preds_multi,id_vars='cell_id')\n",
        "test_preds_multi.columns = ['cell_id','gene_id','target']\n",
        "\n",
        "del test_multi_inputs_id\n",
        "gc.collect()\n",
        "\n",
        "# merge\n",
        "test_preds = pd.concat([test_preds_cite,test_preds_multi])\n",
        "evaluation_ids = evaluation_ids.merge(test_preds, on=['cell_id','gene_id'], how='left')\n",
        "evaluation_ids[['row_id','target']].to_csv(sub_path+'submission6.csv',index=False)"
      ]
    }
  ],
  "metadata": {
    "kernelspec": {
      "display_name": "Python 3",
      "name": "python3"
    },
    "language_info": {
      "codemirror_mode": {
        "name": "ipython",
        "version": 3
      },
      "file_extension": ".py",
      "mimetype": "text/x-python",
      "name": "python",
      "nbconvert_exporter": "python",
      "pygments_lexer": "ipython3",
      "version": "3.11.5"
    },
    "colab": {
      "provenance": [],
      "machine_shape": "hm",
      "gpuType": "V28",
      "include_colab_link": true
    },
    "accelerator": "TPU"
  },
  "nbformat": 4,
  "nbformat_minor": 5
}