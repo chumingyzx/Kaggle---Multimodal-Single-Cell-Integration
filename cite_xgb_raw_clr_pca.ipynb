{
  "cells": [
    {
      "cell_type": "markdown",
      "metadata": {
        "id": "view-in-github",
        "colab_type": "text"
      },
      "source": [
        "<a href=\"https://colab.research.google.com/github/chumingyzx/Kaggle---Multimodal-Single-Cell-Integration/blob/main/cite_xgb_raw_clr_pca.ipynb\" target=\"_parent\"><img src=\"https://colab.research.google.com/assets/colab-badge.svg\" alt=\"Open In Colab\"/></a>"
      ]
    },
    {
      "cell_type": "code",
      "source": [
        "from google.colab import drive\n",
        "import os\n",
        "import glob\n",
        "\n",
        "drive.mount('/content/drive')\n",
        "folder_path = '/content/drive/My Drive/NeurIPS/Data/'\n",
        "all_files = os.listdir(folder_path)"
      ],
      "metadata": {
        "id": "delGLRlm5aGX"
      },
      "execution_count": null,
      "outputs": []
    },
    {
      "cell_type": "code",
      "source": [
        "if not os.path.exists('/opt/conda/lib/python3.7/site-packages/tables'):\n",
        "  !pip install tables\n",
        "if not os.path.exists('/opt/conda/lib/python3.7/site-packages/xgboost'):\n",
        "  !pip install xgboost"
      ],
      "metadata": {
        "id": "S1jntq6o_gWk"
      },
      "execution_count": null,
      "outputs": []
    },
    {
      "cell_type": "code",
      "execution_count": null,
      "metadata": {
        "id": "PgKO7nSL4rFG"
      },
      "outputs": [],
      "source": [
        "%%time\n",
        "import pandas as pd\n",
        "import numpy as np\n",
        "import gc\n",
        "import os\n",
        "import random\n",
        "import pickle\n",
        "from sklearn.model_selection import StratifiedKFold,KFold\n",
        "from scipy.sparse import hstack,vstack,csr_matrix,save_npz,load_npz\n",
        "from sklearn.decomposition import TruncatedSVD\n",
        "import xgboost as xgb\n",
        "\n",
        "############################################################################\n",
        "#----- work folder -----\n",
        "############################################################################\n",
        "input_path = '/content/drive/MyDrive/NeurIPS/Data/'\n",
        "feature_path = '/content/drive/MyDrive/NeurIPS/Data/'\n",
        "model_path = '/content/drive/MyDrive/NeurIPS/'\n",
        "sub_path = '/content/drive/MyDrive/NeurIPS/'"
      ]
    },
    {
      "cell_type": "markdown",
      "metadata": {
        "id": "zcaP9CpW4rFI"
      },
      "source": [
        "# load clr svd,fine tuned process,correlated and important feaures"
      ]
    },
    {
      "cell_type": "code",
      "execution_count": null,
      "metadata": {
        "id": "CGcOSGyF4rFJ"
      },
      "outputs": [],
      "source": [
        "%%time\n",
        "\n",
        "print('modify test')\n",
        "test_cite_inputs = pd.read_hdf(input_path+'test_cite_inputs.h5').reset_index()[['cell_id']]\n",
        "test_cite_inputs_raw = pd.read_hdf(input_path+'test_cite_inputs.h5').reset_index()\n",
        "\n",
        "print('target')\n",
        "train_df = pd.read_feather(feature_path+'train_cite_inputs_id.feather')\n",
        "test_df = pd.read_feather(feature_path+'test_cite_inputs_id.feather')\n",
        "\n",
        "train_cite_y = np.load(feature_path+'train_cite_targets.npy')\n",
        "\n",
        "print('cite_inputs_svd_clr')\n",
        "cite_inputs_svd_clr = np.load(feature_path+'cite_inputs_svd_clr_200.npy')\n",
        "train_cite_svd_clr = cite_inputs_svd_clr[:len(train_df)]\n",
        "test_cite_svd_clr = cite_inputs_svd_clr[len(train_df):]\n",
        "\n",
        "df_test_cite_svd_clr = pd.DataFrame(test_cite_svd_clr)\n",
        "df_test_cite_svd_clr['cell_id'] = test_cite_inputs_raw['cell_id']\n",
        "test_cite_inputs_id = test_cite_inputs.copy()\n",
        "test_cite_inputs_id = test_cite_inputs_id.merge(df_test_cite_svd_clr, on=['cell_id'], how='left')\n",
        "test_cite_inputs_id = test_cite_inputs_id.fillna(0)\n",
        "test_cite_svd_clr = test_cite_inputs_id.drop(['cell_id'],axis=1).values\n",
        "\n",
        "print('cite_inputs_bio_norm_svd_100')\n",
        "cite_inputs_bio_norm_2_svd = np.load(feature_path+'cite_inputs_bio_norm_svd_100.npy')\n",
        "train_cite_inputs_bio_norm_2_svd = cite_inputs_bio_norm_2_svd[:len(train_df)]\n",
        "test_cite_inputs_bio_norm_2_svd = cite_inputs_bio_norm_2_svd[len(train_df):]\n",
        "\n",
        "df_test_cite_inputs_bio_norm_2_svd = pd.DataFrame(test_cite_inputs_bio_norm_2_svd)\n",
        "df_test_cite_inputs_bio_norm_2_svd['cell_id'] = test_cite_inputs_raw['cell_id']\n",
        "test_cite_inputs_id = test_cite_inputs.copy()\n",
        "test_cite_inputs_id = test_cite_inputs_id.merge(df_test_cite_inputs_bio_norm_2_svd, on=['cell_id'], how='left')\n",
        "test_cite_inputs_id = test_cite_inputs_id.fillna(0)\n",
        "test_cite_inputs_bio_norm_2_svd = test_cite_inputs_id.drop(['cell_id'],axis=1).values\n",
        "\n",
        "print('cite_inputs_raw_important_feats')\n",
        "cite_inputs_feats = np.load(feature_path+'cite_inputs_raw_important_feats.npy')\n",
        "train_cite_inputs_feats = cite_inputs_feats[:len(train_df)]\n",
        "test_cite_inputs_feats = cite_inputs_feats[len(train_df):]\n",
        "\n",
        "df_test_cite_inputs_feats = pd.DataFrame(test_cite_inputs_feats)\n",
        "df_test_cite_inputs_feats['cell_id'] = test_cite_inputs_raw['cell_id']\n",
        "test_cite_inputs_id = test_cite_inputs.copy()\n",
        "test_cite_inputs_id = test_cite_inputs_id.merge(df_test_cite_inputs_feats, on=['cell_id'], how='left')\n",
        "test_cite_inputs_id = test_cite_inputs_id.fillna(0)\n",
        "test_cite_inputs_feats = test_cite_inputs_id.drop(['cell_id'],axis=1).values\n",
        "\n",
        "print('cite_inputs_bio_norm_pca_64')\n",
        "cite_inputs_bio_norm_pca_64 = np.load(feature_path+'cite_inputs_bio_norm_pca_64.npy')\n",
        "train_cite_inputs_bio_norm_pca_64 = cite_inputs_bio_norm_pca_64[:len(train_df)]\n",
        "test_cite_inputs_bio_norm_pca_64 = cite_inputs_bio_norm_pca_64[len(train_df):]\n",
        "\n",
        "df_test_cite_inputs_bio_norm_pca_64 = pd.DataFrame(test_cite_inputs_bio_norm_pca_64)\n",
        "df_test_cite_inputs_bio_norm_pca_64['cell_id'] = test_cite_inputs_raw['cell_id']\n",
        "test_cite_inputs_id = test_cite_inputs.copy()\n",
        "test_cite_inputs_id = test_cite_inputs_id.merge(df_test_cite_inputs_bio_norm_pca_64, on=['cell_id'], how='left')\n",
        "test_cite_inputs_id = test_cite_inputs_id.fillna(0)\n",
        "test_cite_inputs_bio_norm_pca_64 = test_cite_inputs_id.drop(['cell_id'],axis=1).values\n",
        "\n",
        "\n",
        "print('concatenate')\n",
        "train_cite_X = np.concatenate([\n",
        "                               train_cite_svd_clr,\n",
        "                               train_cite_inputs_feats,\n",
        "                               train_cite_inputs_bio_norm_2_svd,\n",
        "                               train_cite_inputs_bio_norm_pca_64,\n",
        "                                ],axis=1)\n",
        "\n",
        "test_cite_X = np.concatenate([\n",
        "                              test_cite_svd_clr,\n",
        "                              test_cite_inputs_feats,\n",
        "                              test_cite_inputs_bio_norm_2_svd,\n",
        "                              test_cite_inputs_bio_norm_pca_64\n",
        "                                ],axis=1)\n",
        "\n"
      ]
    },
    {
      "cell_type": "markdown",
      "metadata": {
        "id": "t3KcoDgg4rFK"
      },
      "source": [
        "# model"
      ]
    },
    {
      "cell_type": "code",
      "execution_count": null,
      "metadata": {
        "id": "WTXXaY034rFL"
      },
      "outputs": [],
      "source": [
        "%%time\n",
        "\n",
        "# ====================================================\n",
        "# XGBoost\n",
        "# ====================================================\n",
        "\n",
        "\n",
        "\n",
        "def xgb_kfold(train_df, test_df, train_cite_X, train_cite_y, test_cite_X, folds):\n",
        "    params = {\n",
        "        'objective': 'reg:squarederror',\n",
        "        'learning_rate': 0.01,\n",
        "        'max_depth': 7,\n",
        "        'lambda': 1.0,\n",
        "        'alpha': 0.1,\n",
        "        'subsample': 0.7,\n",
        "        'colsample_bytree': 0.7,\n",
        "        'tree_method': 'gpu_hist',\n",
        "        'verbosity': 0,\n",
        "        'seed': 42\n",
        "    }\n",
        "\n",
        "    oof_preds = np.zeros(train_df.shape[0])\n",
        "    sub_preds = np.zeros(test_df.shape[0])\n",
        "\n",
        "    for n_fold, (train_idx, valid_idx) in enumerate(folds.split(train_df)):\n",
        "        print(f'n_fold: {n_fold}')\n",
        "\n",
        "        train_x = train_cite_X[train_idx]\n",
        "        valid_x = train_cite_X[valid_idx]\n",
        "        train_y = train_cite_y[train_idx]\n",
        "        valid_y = train_cite_y[valid_idx]\n",
        "\n",
        "        dtrain = xgb.DMatrix(train_x, label=train_y)\n",
        "        dvalid = xgb.DMatrix(valid_x, label=valid_y)\n",
        "        dtest  = xgb.DMatrix(test_cite_X)\n",
        "\n",
        "        bst = xgb.train(\n",
        "            params,\n",
        "            dtrain,\n",
        "            num_boost_round=10000,\n",
        "            evals=[(dvalid, 'valid')],\n",
        "            early_stopping_rounds=100,\n",
        "            verbose_eval=1000\n",
        "        )\n",
        "\n",
        "        oof_preds[valid_idx] = bst.predict(dvalid, iteration_range=(0, bst.best_iteration))\n",
        "        sub_preds += bst.predict(dtest, iteration_range=(0, bst.best_iteration)) / folds.n_splits\n",
        "\n",
        "    return oof_preds, sub_preds\n"
      ]
    },
    {
      "cell_type": "code",
      "execution_count": null,
      "metadata": {
        "collapsed": true,
        "id": "uEvC0CpO4rFL"
      },
      "outputs": [],
      "source": [
        "%%time\n",
        "seed = 42\n",
        "folds = KFold(n_splits= 5, shuffle=True, random_state=seed)\n",
        "train_preds = []\n",
        "test_preds = []\n",
        "for i in range(140):\n",
        "    print('=====================')\n",
        "    print(i)\n",
        "    train_cite_y_single = train_cite_y[:,i]\n",
        "    oof_preds,sub_preds = xgb_kfold(train_df, test_df, train_cite_X, train_cite_y_single, test_cite_X, folds)\n",
        "    train_preds.append(oof_preds)\n",
        "    test_preds.append(sub_preds)"
      ]
    },
    {
      "cell_type": "code",
      "execution_count": null,
      "metadata": {
        "id": "m3J78Gui4rFL"
      },
      "outputs": [],
      "source": [
        "def correlation_score(y_true, y_pred):\n",
        "    \"\"\"Scores the predictions according to the competition rules.\n",
        "\n",
        "    It is assumed that the predictions are not constant.\n",
        "\n",
        "    Returns the average of each sample's Pearson correlation coefficient\"\"\"\n",
        "    if type(y_true) == pd.DataFrame: y_true = y_true.values\n",
        "    if type(y_pred) == pd.DataFrame: y_pred = y_pred.values\n",
        "    corrsum = 0\n",
        "    for i in range(len(y_true)):\n",
        "        corrsum += np.corrcoef(y_true[i], y_pred[i])[1, 0]\n",
        "    return corrsum / len(y_true)\n",
        "\n",
        "oof_preds = np.zeros((len(train_df), 140))\n",
        "for n in range(len(train_preds)):\n",
        "    oof_preds[:,n] =  train_preds[n]\n",
        "\n",
        "cv = correlation_score(train_cite_y, oof_preds)\n",
        "print (cv)\n",
        "\n",
        "sub_preds = np.zeros((len(test_df), 140))\n",
        "for n in range(len(test_preds)):\n",
        "    sub_preds[:,n] =  test_preds[n]\n",
        "\n",
        "xgb2 = np.concatenate([oof_preds,sub_preds],axis=0)\n",
        "\n",
        "tsvd = TruncatedSVD(n_components=100, algorithm='arpack')\n",
        "xgb2_svd = tsvd.fit_transform(xgb2)\n",
        "np.save(feature_path+'cite_xgb2_svd_100.npy', xgb2_svd)"
      ]
    },
    {
      "cell_type": "code",
      "execution_count": null,
      "metadata": {
        "id": "zztm4sG14rFM"
      },
      "outputs": [],
      "source": []
    }
  ],
  "metadata": {
    "kernelspec": {
      "display_name": "Python 3",
      "name": "python3"
    },
    "language_info": {
      "codemirror_mode": {
        "name": "ipython",
        "version": 3
      },
      "file_extension": ".py",
      "mimetype": "text/x-python",
      "name": "python",
      "nbconvert_exporter": "python",
      "pygments_lexer": "ipython3",
      "version": "3.11.5"
    },
    "colab": {
      "provenance": [],
      "machine_shape": "hm",
      "gpuType": "A100",
      "include_colab_link": true
    },
    "accelerator": "GPU"
  },
  "nbformat": 4,
  "nbformat_minor": 0
}