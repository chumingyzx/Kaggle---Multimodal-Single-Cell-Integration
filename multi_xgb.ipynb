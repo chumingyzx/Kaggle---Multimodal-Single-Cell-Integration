{
  "cells": [
    {
      "cell_type": "markdown",
      "metadata": {
        "id": "view-in-github",
        "colab_type": "text"
      },
      "source": [
        "<a href=\"https://colab.research.google.com/github/chumingyzx/Kaggle---Multimodal-Single-Cell-Integration/blob/main/multi_xgb.ipynb\" target=\"_parent\"><img src=\"https://colab.research.google.com/assets/colab-badge.svg\" alt=\"Open In Colab\"/></a>"
      ]
    },
    {
      "cell_type": "code",
      "execution_count": null,
      "metadata": {
        "id": "y0iWUGwI-3p8"
      },
      "outputs": [],
      "source": [
        "from google.colab import drive\n",
        "import os\n",
        "import glob\n",
        "\n",
        "drive.mount('/content/drive')\n",
        "folder_path = '/content/drive/My Drive/NeurIPS/Data/'\n",
        "all_files = os.listdir(folder_path)"
      ]
    },
    {
      "cell_type": "code",
      "execution_count": null,
      "metadata": {
        "id": "7YlyHWO1_Ief"
      },
      "outputs": [],
      "source": [
        "if not os.path.exists('/opt/conda/lib/python3.7/site-packages/tables'):\n",
        "  !pip install tables\n",
        "if not os.path.exists('/opt/conda/lib/python3.7/site-packages/xgboost'):\n",
        "  !pip install xgboost"
      ]
    },
    {
      "cell_type": "code",
      "execution_count": null,
      "metadata": {
        "id": "PjuWqiDb-zzB"
      },
      "outputs": [],
      "source": [
        "%%time\n",
        "import pandas as pd\n",
        "import numpy as np\n",
        "import gc\n",
        "import os\n",
        "import random\n",
        "import pickle\n",
        "from sklearn.model_selection import StratifiedKFold,KFold\n",
        "from scipy.sparse import hstack,vstack,csr_matrix,save_npz,load_npz\n",
        "from sklearn.decomposition import TruncatedSVD\n",
        "import xgboost as xgb\n",
        "############################################################################\n",
        "#----- work folder -----\n",
        "############################################################################\n",
        "input_path = '/content/drive/MyDrive/NeurIPS/Data/'\n",
        "feature_path = '/content/drive/MyDrive/NeurIPS/Data/'\n",
        "model_path = '/content/drive/MyDrive/NeurIPS/'\n",
        "sub_path = '/content/drive/MyDrive/NeurIPS/'"
      ]
    },
    {
      "cell_type": "markdown",
      "metadata": {
        "id": "IyriF7KY-zzE"
      },
      "source": [
        "# transform target by tsvd"
      ]
    },
    {
      "cell_type": "code",
      "execution_count": null,
      "metadata": {
        "id": "xRhqoesB-zzE"
      },
      "outputs": [],
      "source": [
        "train_multi_targets = pd.read_hdf(input_path+'train_multi_targets.h5')\n",
        "tsvd = TruncatedSVD(n_components=1000)\n",
        "data_reduced = tsvd.fit_transform(train_multi_targets.values)"
      ]
    },
    {
      "cell_type": "markdown",
      "metadata": {
        "id": "0Sf_RF96-zzF"
      },
      "source": [
        "# load sparse matrix svd"
      ]
    },
    {
      "cell_type": "code",
      "execution_count": null,
      "metadata": {
        "id": "E605yqqx-zzF"
      },
      "outputs": [],
      "source": [
        "%%time\n",
        "\n",
        "train_df = pd.read_feather(feature_path+'train_multi_inputs_id.feather')\n",
        "test_df = pd.read_feather(feature_path+'test_multi_inputs_id.feather')\n",
        "multi_inputs_svd = np.load(feature_path+'multi_inputs_svd_100.npy')\n",
        "train_multi_X = multi_inputs_svd[:len(train_df)]\n",
        "test_multi_X = multi_inputs_svd[len(train_df):]\n",
        "train_multi_y = data_reduced"
      ]
    },
    {
      "cell_type": "code",
      "execution_count": null,
      "metadata": {
        "id": "sh8XSznS-zzF"
      },
      "outputs": [],
      "source": [
        "%%time\n",
        "\n",
        "def xgb_kfold(train_df, test_df, train_cite_X, train_cite_y, test_cite_X, folds):\n",
        "    params = {\n",
        "        'objective': 'reg:squarederror',\n",
        "        'learning_rate': 0.1,\n",
        "        'max_depth': 6,\n",
        "        'lambda': 1.0,\n",
        "        'alpha': 0.1,\n",
        "        'subsample': 0.7,\n",
        "        'colsample_bytree': 0.7,\n",
        "        'tree_method': 'gpu_hist',\n",
        "        'verbosity': 0,\n",
        "        'seed': 42\n",
        "    }\n",
        "\n",
        "    oof_preds = np.zeros(train_df.shape[0])\n",
        "    sub_preds = np.zeros(test_df.shape[0])\n",
        "\n",
        "    for n_fold, (train_idx, valid_idx) in enumerate(folds.split(train_df)):\n",
        "        print(f'n_fold: {n_fold}')\n",
        "\n",
        "        train_x = train_cite_X[train_idx]\n",
        "        valid_x = train_cite_X[valid_idx]\n",
        "        train_y = train_cite_y[train_idx]\n",
        "        valid_y = train_cite_y[valid_idx]\n",
        "\n",
        "        dtrain = xgb.DMatrix(train_x, label=train_y)\n",
        "        dvalid = xgb.DMatrix(valid_x, label=valid_y)\n",
        "        dtest  = xgb.DMatrix(test_cite_X)\n",
        "\n",
        "        bst = xgb.train(\n",
        "            params,\n",
        "            dtrain,\n",
        "            num_boost_round=10000,\n",
        "            evals=[(dvalid, 'valid')],\n",
        "            early_stopping_rounds=100,\n",
        "            verbose_eval=1000\n",
        "        )\n",
        "\n",
        "        oof_preds[valid_idx] = bst.predict(dvalid, iteration_range=(0, bst.best_iteration))\n",
        "        sub_preds += bst.predict(dtest, iteration_range=(0, bst.best_iteration)) / folds.n_splits\n",
        "\n",
        "    return oof_preds, sub_preds"
      ]
    },
    {
      "cell_type": "code",
      "execution_count": null,
      "metadata": {
        "colab": {
          "background_save": true
        },
        "collapsed": true,
        "id": "mVu3DSXh-zzG"
      },
      "outputs": [],
      "source": [
        "%%time\n",
        "seed = 42\n",
        "folds = KFold(n_splits= 5, shuffle=True, random_state=seed)\n",
        "train_preds = []\n",
        "test_preds = []\n",
        "for i in range(1000):\n",
        "    print('=====================')\n",
        "    print(i)\n",
        "    train_multi_y_single = train_multi_y[:,i]\n",
        "    oof_preds,sub_preds = xgb_kfold(train_df, test_df, train_multi_X, train_multi_y_single, test_multi_X, folds)\n",
        "    train_preds.append(oof_preds)\n",
        "    test_preds.append(sub_preds)"
      ]
    },
    {
      "cell_type": "code",
      "execution_count": null,
      "metadata": {
        "colab": {
          "background_save": true
        },
        "id": "CN2_7gi--zzG"
      },
      "outputs": [],
      "source": [
        "def correlation_score(y_true, y_pred):\n",
        "    \"\"\"Average sample-wise Pearson correlation with safety checks\"\"\"\n",
        "    y_true = y_true.values if isinstance(y_true, pd.DataFrame) else y_true\n",
        "    y_pred = y_pred.values if isinstance(y_pred, pd.DataFrame) else y_pred\n",
        "    corrsum = 0\n",
        "    valid_count = 0\n",
        "    for i in range(len(y_true)):\n",
        "        if np.std(y_true[i]) == 0 or np.std(y_pred[i]) == 0:\n",
        "            continue  # skip invalid\n",
        "        corrsum += np.corrcoef(y_true[i], y_pred[i])[1, 0]\n",
        "        valid_count += 1\n",
        "    return corrsum / valid_count if valid_count > 0 else 0.0\n",
        "\n",
        "\n"
      ]
    },
    {
      "cell_type": "code",
      "execution_count": null,
      "metadata": {
        "id": "6OmYIQZ8-zzG"
      },
      "outputs": [],
      "source": [
        "oof_preds = np.stack(train_preds, axis=1)\n",
        "sub_preds = np.stack(test_preds, axis=1)\n",
        "\n",
        "xgb = np.concatenate([oof_preds, sub_preds], axis=0)\n",
        "\n",
        "tsvd = TruncatedSVD(n_components=100, algorithm='arpack')\n",
        "xgb_svd = tsvd.fit_transform(xgb)\n",
        "np.save(feature_path + 'multi_xgb_svd_100.npy', xgb_svd)"
      ]
    }
  ],
  "metadata": {
    "accelerator": "GPU",
    "colab": {
      "gpuType": "A100",
      "machine_shape": "hm",
      "provenance": [],
      "include_colab_link": true
    },
    "kernelspec": {
      "display_name": "Python 3",
      "name": "python3"
    },
    "language_info": {
      "codemirror_mode": {
        "name": "ipython",
        "version": 3
      },
      "file_extension": ".py",
      "mimetype": "text/x-python",
      "name": "python",
      "nbconvert_exporter": "python",
      "pygments_lexer": "ipython3",
      "version": "3.8.10"
    }
  },
  "nbformat": 4,
  "nbformat_minor": 0
}