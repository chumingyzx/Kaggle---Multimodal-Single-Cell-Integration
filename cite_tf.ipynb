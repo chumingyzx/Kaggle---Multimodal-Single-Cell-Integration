{
  "nbformat": 4,
  "nbformat_minor": 0,
  "metadata": {
    "colab": {
      "provenance": [],
      "machine_shape": "hm",
      "gpuType": "A100",
      "authorship_tag": "ABX9TyMXcAEjC4TSTObn7vf0nyvZ",
      "include_colab_link": true
    },
    "kernelspec": {
      "name": "python3",
      "display_name": "Python 3"
    },
    "language_info": {
      "name": "python"
    },
    "accelerator": "GPU"
  },
  "cells": [
    {
      "cell_type": "markdown",
      "metadata": {
        "id": "view-in-github",
        "colab_type": "text"
      },
      "source": [
        "<a href=\"https://colab.research.google.com/github/chumingyzx/Kaggle---Multimodal-Single-Cell-Integration/blob/main/cite_tf.ipynb\" target=\"_parent\"><img src=\"https://colab.research.google.com/assets/colab-badge.svg\" alt=\"Open In Colab\"/></a>"
      ]
    },
    {
      "cell_type": "code",
      "source": [
        "from google.colab import drive\n",
        "import os\n",
        "import glob\n",
        "\n",
        "drive.mount('/content/drive')\n",
        "folder_path = '/content/drive/My Drive/NeurIPS/Data/'\n",
        "all_files = os.listdir(folder_path)"
      ],
      "metadata": {
        "id": "0DJ55DrYWlzA"
      },
      "execution_count": null,
      "outputs": []
    },
    {
      "cell_type": "code",
      "source": [
        "!pip install mudata\n",
        "!pip install scanpy\n",
        "!pip install muon\n",
        "!pip install scvi-tools\n"
      ],
      "metadata": {
        "collapsed": true,
        "id": "DTSUYPjqewr-"
      },
      "execution_count": null,
      "outputs": []
    },
    {
      "cell_type": "code",
      "source": [
        "import json\n",
        "import pandas as pd\n",
        "import numpy as np\n",
        "import torch\n",
        "from torch.utils.data import TensorDataset, DataLoader\n",
        "from sklearn.model_selection import KFold\n",
        "from scipy.sparse import load_npz\n",
        "from scvi.model import TOTALVI\n",
        "\n",
        "\n",
        "input_path = '/content/drive/MyDrive/NeurIPS/Data/'\n",
        "features_path = '/content/drive/MyDrive/NeurIPS/Data/'\n",
        "model_path = '/content/drive/MyDrive/NeurIPS/model/'\n",
        "sub_path = '/content/drive/MyDrive/NeurIPS/'"
      ],
      "metadata": {
        "id": "kloSZI4Fe_Vm"
      },
      "execution_count": null,
      "outputs": []
    },
    {
      "cell_type": "code",
      "source": [
        "def zscore_rows(x: np.ndarray) -> np.ndarray:\n",
        "    mean = np.mean(x, axis=1, keepdims=True)\n",
        "    std = np.std(x, axis=1, keepdims=True)\n",
        "    return (x - mean) / (std + 1e-8)"
      ],
      "metadata": {
        "id": "IscGrUcAfmfH"
      },
      "execution_count": null,
      "outputs": []
    },
    {
      "cell_type": "code",
      "source": [
        "train_df = pd.read_feather(features_path+'train_cite_inputs_id.feather')\n",
        "test_df  = pd.read_feather(features_path+'test_cite_inputs_id.feather')\n",
        "train_targets = np.load(features_path+'train_cite_targets.npy')"
      ],
      "metadata": {
        "id": "jwaqYXRJf_xO"
      },
      "execution_count": null,
      "outputs": []
    },
    {
      "cell_type": "code",
      "source": [
        "train_df"
      ],
      "metadata": {
        "id": "BxeI0WE8gJdC"
      },
      "execution_count": null,
      "outputs": []
    },
    {
      "cell_type": "code",
      "source": [
        "cite_svd_clr = np.load(features_path+'cite_inputs_svd_clr_200.npy')\n",
        "train_svd_clr = zscore_rows(cite_svd_clr[:len(train_df)])\n",
        "test_svd_clr  = zscore_rows(cite_svd_clr[len(train_df):])"
      ],
      "metadata": {
        "id": "qPqyex4IgO1z"
      },
      "execution_count": null,
      "outputs": []
    },
    {
      "cell_type": "code",
      "source": [
        "cite_svd_clr"
      ],
      "metadata": {
        "id": "qv4xwImsgSnf"
      },
      "execution_count": null,
      "outputs": []
    },
    {
      "cell_type": "code",
      "source": [
        "cite_feats = np.load(features_path+'cite_inputs_raw_important_feats.npy')\n",
        "train_feats = zscore_rows(cite_feats[:len(train_df)])\n",
        "test_feats  = zscore_rows(cite_feats[len(train_df):])"
      ],
      "metadata": {
        "id": "dwoF8b6CgRO1"
      },
      "execution_count": null,
      "outputs": []
    },
    {
      "cell_type": "code",
      "source": [
        "test_feats"
      ],
      "metadata": {
        "id": "ylMjgMaygaIQ"
      },
      "execution_count": null,
      "outputs": []
    },
    {
      "cell_type": "code",
      "source": [
        "test_cite_inputs = pd.read_hdf(input_path+'test_cite_inputs.h5').reset_index()[['cell_id']]"
      ],
      "metadata": {
        "id": "Xw4ttAi7mIu2"
      },
      "execution_count": null,
      "outputs": []
    },
    {
      "cell_type": "code",
      "source": [
        "#cite_inputs_svd_clr\n",
        "cite_inputs_svd_clr = np.load(features_path+'cite_inputs_svd_clr_200.npy')\n",
        "train_cite_svd_clr = cite_inputs_svd_clr[:len(train_df)]\n",
        "test_cite_svd_clr = cite_inputs_svd_clr[len(train_df):]\n",
        "train_cite_svd_clr = zscore_rows(train_cite_svd_clr)\n",
        "test_cite_svd_clr = zscore_rows(test_cite_svd_clr)\n",
        "\n",
        "df_test_cite_svd_clr = pd.DataFrame(test_cite_svd_clr)\n",
        "df_test_cite_svd_clr['cell_id'] = test_cite_inputs['cell_id']\n",
        "test_cite_inputs_id = test_cite_inputs.copy()\n",
        "test_cite_inputs_id = test_cite_inputs_id.merge(df_test_cite_svd_clr, on=['cell_id'], how='left')\n",
        "test_cite_inputs_id = test_cite_inputs_id.fillna(0)\n",
        "test_cite_svd_clr = test_cite_inputs_id.drop(['cell_id'],axis=1).values\n",
        "\n",
        "#cite_inputs_bio_norm\n",
        "cite_inputs_bio_norm_svd = np.load(features_path+'cite_inputs_bio_norm_svd_100.npy')\n",
        "train_cite_inputs_bio_norm_svd = cite_inputs_bio_norm_svd[:len(train_df)]\n",
        "test_cite_inputs_bio_norm_svd = cite_inputs_bio_norm_svd[len(train_df):]\n",
        "train_cite_inputs_bio_norm_svd = zscore_rows(train_cite_inputs_bio_norm_svd)\n",
        "test_cite_inputs_bio_norm_svd = zscore_rows(test_cite_inputs_bio_norm_svd)\n",
        "\n",
        "df_test_cite_inputs_bio_norm_svd = pd.DataFrame(test_cite_inputs_bio_norm_svd)\n",
        "df_test_cite_inputs_bio_norm_svd['cell_id'] = test_cite_inputs['cell_id']\n",
        "test_cite_inputs_id = test_cite_inputs.copy()\n",
        "test_cite_inputs_id = test_cite_inputs_id.merge(df_test_cite_inputs_bio_norm_svd, on=['cell_id'], how='left')\n",
        "test_cite_inputs_id = test_cite_inputs_id.fillna(0)\n",
        "test_cite_inputs_bio_norm_svd = test_cite_inputs_id.drop(['cell_id'],axis=1).values\n",
        "\n",
        "#cite_inputs_raw_important_feats\n",
        "cite_inputs_feats = np.load(features_path+'cite_inputs_raw_important_feats.npy')\n",
        "train_cite_inputs_feats = cite_inputs_feats[:len(train_df)]\n",
        "test_cite_inputs_feats = cite_inputs_feats[len(train_df):]\n",
        "train_cite_inputs_feats = zscore_rows(train_cite_inputs_feats)\n",
        "test_cite_inputs_feats = zscore_rows(test_cite_inputs_feats)\n",
        "\n",
        "df_test_cite_inputs_feats = pd.DataFrame(test_cite_inputs_feats)\n",
        "df_test_cite_inputs_feats['cell_id'] = test_cite_inputs['cell_id']\n",
        "test_cite_inputs_id = test_cite_inputs.copy()\n",
        "test_cite_inputs_id = test_cite_inputs_id.merge(df_test_cite_inputs_feats, on=['cell_id'], how='left')\n",
        "test_cite_inputs_id = test_cite_inputs_id.fillna(0)\n",
        "test_cite_inputs_feats = test_cite_inputs_id.drop(['cell_id'],axis=1).values\n",
        "\n",
        "#cite_inputs_bio_norm_pca_64\n",
        "cite_inputs_bio_norm_pca_64 = np.load(features_path+'cite_inputs_bio_norm_pca_64.npy')\n",
        "train_cite_inputs_bio_norm_pca_64 = cite_inputs_bio_norm_pca_64[:len(train_df)]\n",
        "test_cite_inputs_bio_norm_pca_64 = cite_inputs_bio_norm_pca_64[len(train_df):]\n",
        "train_cite_inputs_bio_norm_pca_64 = zscore_rows(train_cite_inputs_bio_norm_pca_64)\n",
        "test_cite_inputs_bio_norm_pca_64 = zscore_rows(test_cite_inputs_bio_norm_pca_64)\n",
        "\n",
        "df_test_cite_inputs_bio_norm_pca_64 = pd.DataFrame(test_cite_inputs_bio_norm_pca_64)\n",
        "df_test_cite_inputs_bio_norm_pca_64['cell_id'] = test_cite_inputs['cell_id']\n",
        "test_cite_inputs_id = test_cite_inputs.copy()\n",
        "test_cite_inputs_id = test_cite_inputs_id.merge(df_test_cite_inputs_bio_norm_pca_64, on=['cell_id'], how='left')\n",
        "test_cite_inputs_id = test_cite_inputs_id.fillna(0)\n",
        "test_cite_inputs_bio_norm_pca_64 = test_cite_inputs_id.drop(['cell_id'],axis=1).values\n"
      ],
      "metadata": {
        "id": "5eo4Xg91pHX5"
      },
      "execution_count": null,
      "outputs": []
    },
    {
      "cell_type": "code",
      "source": [
        "#xgb1\n",
        "cite_xgb1_svd = np.load(features_path+'cite_xgb1_svd_100.npy')\n",
        "train_cite_xgb1_svd = cite_xgb1_svd[:len(train_df)]\n",
        "test_cite_xgb1_svd = cite_xgb1_svd[len(train_df):]\n",
        "train_cite_xgb1_svd = zscore_rows(train_cite_xgb1_svd)\n",
        "test_cite_xgb1_svd = zscore_rows(test_cite_xgb1_svd)\n",
        "\n",
        "\n",
        "#xgb2\n",
        "cite_xgb2_svd = np.load(features_path+'cite_xgb2_svd_100.npy')\n",
        "train_cite_xgb2_svd = cite_xgb2_svd[:len(train_df)]\n",
        "test_cite_xgb2_svd = cite_xgb2_svd[len(train_df):]\n",
        "train_cite_xgb2_svd = zscore_rows(train_cite_xgb2_svd)\n",
        "test_cite_xgb2_svd = zscore_rows(test_cite_xgb2_svd)\n",
        "\n",
        "\n",
        "#xgb3\n",
        "cite_xgb3_svd = np.load(features_path+'cite_xgb3_svd_100.npy')\n",
        "train_cite_xgb3_svd = cite_xgb3_svd[:len(train_df)]\n",
        "test_cite_xgb3_svd = cite_xgb3_svd[len(train_df):]\n",
        "train_cite_xgb3_svd = zscore_rows(train_cite_xgb3_svd)\n",
        "test_cite_xgb3_svd = zscore_rows(test_cite_xgb3_svd)\n",
        "\n",
        "df_test_cite_xgb3_svd = pd.DataFrame(test_cite_xgb3_svd)\n",
        "df_test_cite_xgb3_svd['cell_id'] = test_cite_inputs['cell_id']\n",
        "test_cite_inputs_id = test_cite_inputs.copy()\n",
        "test_cite_inputs_id = test_cite_inputs_id.merge(df_test_cite_xgb3_svd, on=['cell_id'], how='left')\n",
        "test_cite_inputs_id = test_cite_inputs_id.fillna(0)\n",
        "test_cite_xgb3_svd = test_cite_inputs_id.drop(['cell_id'],axis=1).values\n",
        "\n",
        "#xgb4\n",
        "cite_xgb4_svd = np.load(features_path+'cite_xgb4_svd_100.npy')\n",
        "train_cite_xgb4_svd = cite_xgb4_svd[:len(train_df)]\n",
        "test_cite_xgb4_svd = cite_xgb4_svd[len(train_df):]\n",
        "train_cite_xgb4_svd = zscore_rows(train_cite_xgb4_svd)\n",
        "test_cite_xgb4_svd = zscore_rows(test_cite_xgb4_svd)\n",
        "\n",
        "df_test_cite_xgb4_svd = pd.DataFrame(test_cite_xgb4_svd)\n",
        "df_test_cite_xgb4_svd['cell_id'] = test_cite_inputs['cell_id']\n",
        "test_cite_inputs_id = test_cite_inputs.copy()\n",
        "test_cite_inputs_id = test_cite_inputs_id.merge(df_test_cite_xgb4_svd, on=['cell_id'], how='left')\n",
        "test_cite_inputs_id = test_cite_inputs_id.fillna(0)\n",
        "test_cite_xgb4_svd = test_cite_inputs_id.drop(['cell_id'],axis=1).values\n",
        "\n",
        "\n"
      ],
      "metadata": {
        "id": "xdIC13sDbjd8"
      },
      "execution_count": null,
      "outputs": []
    },
    {
      "cell_type": "code",
      "source": [
        "train_cite_X = np.concatenate([\n",
        "                               train_cite_svd_clr,\n",
        "                               train_cite_inputs_feats,\n",
        "                               train_cite_inputs_bio_norm_svd,\n",
        "                               train_cite_inputs_bio_norm_pca_64,\n",
        "                               train_cite_xgb1_svd,\n",
        "                               train_cite_xgb2_svd,\n",
        "                               train_cite_xgb3_svd,\n",
        "                               train_cite_xgb4_svd,\n",
        "                                ],axis=1)\n",
        "\n",
        "test_cite_X = np.concatenate([\n",
        "                              test_cite_svd_clr,\n",
        "                              test_cite_inputs_feats,\n",
        "                              test_cite_inputs_bio_norm_svd,\n",
        "                              test_cite_inputs_bio_norm_pca_64,\n",
        "                              test_cite_xgb1_svd,\n",
        "                              test_cite_xgb2_svd,\n",
        "                              test_cite_xgb3_svd,\n",
        "                              test_cite_xgb4_svd,\n",
        "                                ],axis=1)\n",
        "\n",
        "train_cite_y = np.load(features_path+'train_cite_targets.npy')\n"
      ],
      "metadata": {
        "id": "Xgq02uPysO6n"
      },
      "execution_count": null,
      "outputs": []
    },
    {
      "cell_type": "code",
      "source": [
        "\n",
        "def zscore(x):\n",
        "    return (x - np.mean(x, axis=1, keepdims=True)) / np.std(x, axis=1, keepdims=True)\n",
        "\n",
        "train_cite_y = zscore(train_cite_y)\n"
      ],
      "metadata": {
        "id": "xVoiKUjhByfy"
      },
      "execution_count": null,
      "outputs": []
    },
    {
      "cell_type": "code",
      "source": [
        "import torch\n",
        "import torch.nn as nn\n",
        "import torch.nn.functional as F\n",
        "import torch.utils.data as data\n",
        "import torch.optim as optim\n",
        "from sklearn.model_selection import KFold\n",
        "from scipy.stats import pearsonr\n",
        "import numpy as np\n",
        "import gc\n",
        "\n",
        "DEVICE = torch.device(\"cuda\" if torch.cuda.is_available() else \"cpu\")\n",
        "SEED = 42\n",
        "BATCH_SIZE = 600\n",
        "EPOCHS = 100\n",
        "LR = 0.0005\n",
        "WEIGHT_DECAY = 0.0001\n",
        "LR_FACTOR = 0.1\n",
        "N_SPLITS = 5\n",
        "torch.manual_seed(SEED)\n",
        "np.random.seed(SEED)\n",
        "\n",
        "def correlation_score(y_true, y_pred):\n",
        "    return np.mean([pearsonr(a, b)[0] for a, b in zip(y_true, y_pred)])\n",
        "\n",
        "class CITEseqDataset(data.Dataset):\n",
        "    def __init__(self, X, y=None):\n",
        "        self.X = torch.tensor(X, dtype=torch.float32)\n",
        "        self.y = torch.tensor(y, dtype=torch.float32) if y is not None else None\n",
        "\n",
        "    def __len__(self):\n",
        "        return self.X.shape[0]\n",
        "\n",
        "    def __getitem__(self, idx):\n",
        "        if self.y is not None:\n",
        "            return self.X[idx], self.y[idx]\n",
        "        return self.X[idx]\n"
      ],
      "metadata": {
        "id": "ZDOMcZaPCsMq"
      },
      "execution_count": null,
      "outputs": []
    },
    {
      "cell_type": "code",
      "source": [
        "class CITEseqTransformerModel(nn.Module):\n",
        "    def __init__(self, input_dim, d_model=512, nhead=8, num_layers=2, dim_feedforward=1024):\n",
        "        super().__init__()\n",
        "        self.input_proj = nn.Sequential(\n",
        "            nn.Linear(input_dim, d_model),\n",
        "            nn.SiLU(),\n",
        "            nn.Dropout(0.1),\n",
        "        )\n",
        "\n",
        "        encoder_layer = nn.TransformerEncoderLayer(\n",
        "            d_model=d_model,\n",
        "            nhead=nhead,\n",
        "            dim_feedforward=dim_feedforward,\n",
        "            dropout=0.1,\n",
        "            activation='gelu',\n",
        "            batch_first=True,\n",
        "        )\n",
        "        self.transformer = nn.TransformerEncoder(encoder_layer, num_layers=num_layers)\n",
        "\n",
        "        self.output = nn.Linear(d_model, 140)\n",
        "\n",
        "    def forward(self, x):\n",
        "        x = self.input_proj(x)\n",
        "        x = x.unsqueeze(1)\n",
        "        x = self.transformer(x)\n",
        "        x = x.squeeze(1)\n",
        "        return self.output(x)\n"
      ],
      "metadata": {
        "id": "wXv75R7DDDv0"
      },
      "execution_count": null,
      "outputs": []
    },
    {
      "cell_type": "code",
      "source": [
        "def make_model_fn(config):\n",
        "    def model_fn(input_dim):\n",
        "        return CITEseqTransformerModel(\n",
        "            input_dim=input_dim,\n",
        "            d_model=config[\"d_model\"],\n",
        "            nhead=config[\"nhead\"],\n",
        "            num_layers=config[\"num_layers\"],\n",
        "            dim_feedforward=config[\"dim_feedforward\"]\n",
        "        )\n",
        "    return model_fn"
      ],
      "metadata": {
        "id": "lIIhStUUzgvH"
      },
      "execution_count": null,
      "outputs": []
    },
    {
      "cell_type": "code",
      "source": [
        "def train_one_epoch(model, loader, optimizer, criterion):\n",
        "    model.train()\n",
        "    total_loss = 0\n",
        "    for X, y in loader:\n",
        "        X, y = X.to(DEVICE), y.to(DEVICE)\n",
        "        optimizer.zero_grad()\n",
        "        pred = model(X)\n",
        "        loss = criterion(pred, y)\n",
        "        loss.backward()\n",
        "        optimizer.step()\n",
        "        total_loss += loss.item() * X.size(0)\n",
        "    return total_loss / len(loader.dataset)\n",
        "\n",
        "def evaluate(model, loader):\n",
        "    model.eval()\n",
        "    preds, truths = [], []\n",
        "    with torch.no_grad():\n",
        "        for batch in loader:\n",
        "            if isinstance(batch, (list, tuple)) and len(batch) == 2:\n",
        "                X, y = batch\n",
        "                truths.append(y.numpy())\n",
        "            else:\n",
        "                X = batch\n",
        "            X = X.to(DEVICE)\n",
        "            out = model(X).cpu().numpy()\n",
        "            preds.append(out)\n",
        "    if truths:\n",
        "        return np.vstack(preds), np.vstack(truths)\n",
        "    else:\n",
        "        return np.vstack(preds), None\n"
      ],
      "metadata": {
        "id": "BT4BJwLuDiH5"
      },
      "execution_count": null,
      "outputs": []
    },
    {
      "cell_type": "code",
      "source": [
        "def run_kfold(train_df, train_X, train_y, test_df, test_X, model_fn, save_prefix=\"model\"):\n",
        "    input_dim = train_X.shape[1]\n",
        "    oof_preds = np.zeros((train_df.shape[0], 140))\n",
        "    test_preds = np.zeros((test_df.shape[0], 140))\n",
        "    cv_corr = []\n",
        "\n",
        "    kf = KFold(n_splits=N_SPLITS, shuffle=True, random_state=SEED)\n",
        "\n",
        "    for fold, (train_idx, valid_idx) in enumerate(kf.split(train_df)):\n",
        "        print(f'Fold {fold}')\n",
        "        model = model_fn(input_dim).to(DEVICE)\n",
        "\n",
        "        optimizer = optim.AdamW(model.parameters(), lr=LR, weight_decay=WEIGHT_DECAY)\n",
        "        scheduler = optim.lr_scheduler.ReduceLROnPlateau(optimizer, mode='min', factor=LR_FACTOR, patience=6)\n",
        "        criterion = nn.MSELoss()\n",
        "\n",
        "        train_dataset = CITEseqDataset(train_X[train_idx], train_y[train_idx])\n",
        "        valid_dataset = CITEseqDataset(train_X[valid_idx], train_y[valid_idx])\n",
        "        test_dataset = CITEseqDataset(test_X)\n",
        "\n",
        "        train_loader = data.DataLoader(train_dataset, batch_size=BATCH_SIZE, shuffle=True)\n",
        "        valid_loader = data.DataLoader(valid_dataset, batch_size=BATCH_SIZE, shuffle=False)\n",
        "        test_loader = data.DataLoader(test_dataset, batch_size=BATCH_SIZE, shuffle=False)\n",
        "\n",
        "        best_loss = np.inf\n",
        "        best_model = None\n",
        "\n",
        "        for epoch in range(EPOCHS):\n",
        "            train_loss = train_one_epoch(model, train_loader, optimizer, criterion)\n",
        "            val_preds, val_trues = evaluate(model, valid_loader)\n",
        "            val_loss = criterion(torch.tensor(val_preds), torch.tensor(val_trues)).item()\n",
        "            scheduler.step(val_loss)\n",
        "\n",
        "            print(f\"Epoch {epoch+1}, Train Loss: {train_loss:.4f}, Val Loss: {val_loss:.4f}\")\n",
        "            if val_loss < best_loss:\n",
        "                best_loss = val_loss\n",
        "                best_model = model.state_dict()\n",
        "                torch.save(model.state_dict(), os.path.join(model_path, f'cite_{save_prefix}_fold{fold}.pt'))\n",
        "                es_counter = 0\n",
        "            else:\n",
        "                es_counter += 1\n",
        "                if es_counter >= 10:\n",
        "                    print(f\"Early stopping at epoch {epoch+1}\")\n",
        "                    break\n",
        "\n",
        "        model.load_state_dict(best_model)\n",
        "        preds, _ = evaluate(model, valid_loader)\n",
        "        oof_preds[valid_idx] = preds\n",
        "        fold_corr = correlation_score(val_trues, preds)\n",
        "        cv_corr.append(fold_corr)\n",
        "        print(f'Fold {fold} Corr: {fold_corr:.4f}')\n",
        "\n",
        "        test_fold_preds, _ = evaluate(model, test_loader)\n",
        "        test_preds += test_fold_preds / N_SPLITS\n",
        "\n",
        "        if fold == N_SPLITS - 1:\n",
        "            torch.save(model.state_dict(),  os.path.join(model_path,f\"cite_{save_prefix}_final.pt\"))\n",
        "            print(\"Final model saved as transformer_final_model.pt\")\n",
        "\n",
        "        del model\n",
        "        gc.collect()\n",
        "        torch.cuda.empty_cache()\n",
        "\n",
        "    overall_corr = correlation_score(train_y, oof_preds)\n",
        "    print(f'OOF Corr: {overall_corr:.4f}')\n",
        "    print(f'All Fold Corrs: {cv_corr}')\n",
        "    return oof_preds, test_preds\n"
      ],
      "metadata": {
        "id": "r2t0EuKvDlFB"
      },
      "execution_count": null,
      "outputs": []
    },
    {
      "cell_type": "code",
      "source": [
        "import itertools\n",
        "import os\n",
        "import json\n",
        "\n",
        "\n",
        "\n",
        "search_space = {\n",
        "    'd_model': [256, 512, 768],\n",
        "    'nhead': [4, 8],\n",
        "    'num_layers': [2, 3, 4],\n",
        "    'dim_feedforward': [1024, 2048, 3072, 4096]\n",
        "}\n",
        "\n",
        "\n",
        "\n",
        "param_grid = list(itertools.product(*search_space.values()))\n",
        "param_names = list(search_space.keys())\n",
        "\n",
        "results_summary = []\n",
        "\n",
        "for i, param_set in enumerate(param_grid):\n",
        "    config = dict(zip(param_names, param_set))\n",
        "    print(f\"\\n🔍 Running config {i}: {config}\")\n",
        "\n",
        "    save_prefix = f\"search_{i}_d{config['d_model']}_h{config['nhead']}_l{config['num_layers']}_ff{config['dim_feedforward']}\"\n",
        "    model_fn = make_model_fn(config)\n",
        "\n",
        "    oof_preds, sub_preds = run_kfold(\n",
        "        train_df, train_cite_X, train_cite_y,\n",
        "        test_df, test_cite_X,\n",
        "        model_fn=model_fn,\n",
        "        save_prefix=save_prefix\n",
        "    )\n",
        "\n",
        "    np.save(f\"cite_{save_prefix}_oof.npy\", oof_preds)\n",
        "    np.save(f\"cite_{save_prefix}_sub.npy\", sub_preds)\n",
        "\n",
        "    with open(f\"cite_{save_prefix}_config.json\", \"w\") as f:\n",
        "        json.dump({**config}, f)\n",
        "\n",
        "    results_summary.append({**config})\n",
        "\n",
        "with open(\"cite_all_search_results.json\", \"w\") as f:\n",
        "    json.dump(results_summary, f, indent=2)\n",
        "\n",
        "print(\"\\n🎉 All search finished!\")\n"
      ],
      "metadata": {
        "id": "iy7bd_jL6jqA"
      },
      "execution_count": null,
      "outputs": []
    },
    {
      "cell_type": "code",
      "source": [
        "np.save(os.path.join(sub_path, f\"cite_{save_prefix}_oof.npy\"), oof_preds)"
      ],
      "metadata": {
        "id": "VynfAti28oA_"
      },
      "execution_count": null,
      "outputs": []
    }
  ]
}